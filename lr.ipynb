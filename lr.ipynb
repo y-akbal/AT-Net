{
 "cells": [
  {
   "cell_type": "code",
   "execution_count": 3,
   "id": "33ed5690-5e69-434e-b633-33407a9b2cc9",
   "metadata": {},
   "outputs": [],
   "source": [
    "import torch\n",
    "from torch import optim"
   ]
  },
  {
   "cell_type": "code",
   "execution_count": 63,
   "id": "7abe21e8-1d42-4eff-bc3d-8512cd0aa310",
   "metadata": {},
   "outputs": [],
   "source": [
    "m = torch.nn.Linear(10,10)\n",
    "optimizer = optim.SGD(m.parameters(), 0.000375)"
   ]
  },
  {
   "cell_type": "code",
   "execution_count": 66,
   "id": "8c0d8be0-9fc8-4cec-abd2-b4b233c60166",
   "metadata": {},
   "outputs": [],
   "source": [
    "lr1 = torch.optim.lr_scheduler.ConstantLR(optimizer, 0.001, 2)\n",
    "lr2 = torch.optim.lr_scheduler.LinearLR(optimizer, start_factor=0.001,total_iters=5)\n",
    "lr3 = torch.optim.lr_scheduler.CosineAnnealingWarmRestarts(optimizer, T_0 = 300, eta_min = 1e-5)\n",
    "lr_ = torch.optim.lr_scheduler.SequentialLR(optimizer, schedulers=[lr1, lr2, lr3], milestones= [2, 7], )"
   ]
  },
  {
   "cell_type": "code",
   "execution_count": null,
   "id": "e4b682c0-5dee-494e-a3c3-c70b0b18fd51",
   "metadata": {},
   "outputs": [],
   "source": [
    "for i in range(300):\n",
    "    print(lr_.get_last_lr()[0])\n",
    "    lr_.step()"
   ]
  },
  {
   "cell_type": "code",
   "execution_count": null,
   "id": "9de9685b-3e6b-4712-9fcd-9b6f885d83d7",
   "metadata": {},
   "outputs": [],
   "source": []
  },
  {
   "cell_type": "code",
   "execution_count": null,
   "id": "77491913-0bb5-4cf1-8437-ef97da0f6c90",
   "metadata": {},
   "outputs": [],
   "source": []
  },
  {
   "cell_type": "code",
   "execution_count": null,
   "id": "82b30002-585b-43ec-bf61-da25a3871f55",
   "metadata": {},
   "outputs": [],
   "source": []
  },
  {
   "cell_type": "code",
   "execution_count": null,
   "id": "aba8ed31-b338-4b6a-a615-392e0a7909d5",
   "metadata": {},
   "outputs": [],
   "source": []
  }
 ],
 "metadata": {
  "kernelspec": {
   "display_name": "Julia 1.10.5",
   "language": "julia",
   "name": "julia-1.10"
  },
  "language_info": {
   "file_extension": ".jl",
   "mimetype": "application/julia",
   "name": "julia",
   "version": "1.10.5"
  }
 },
 "nbformat": 4,
 "nbformat_minor": 5
}
